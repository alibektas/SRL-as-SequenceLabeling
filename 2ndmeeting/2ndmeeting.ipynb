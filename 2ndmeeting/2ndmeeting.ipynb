{
 "cells": [
  {
   "cell_type": "markdown",
   "metadata": {},
   "source": [
    "# RoBERTa\n",
    "\n",
    "||correct|excess|missed|prec.|rec.|F1|\n",
    "|:---:|:----:|:----:|:-----:|:-----:|:----:|:-----:|\n",
    "|Overall|5988|2040|3362|74.59|64.04|68.91|\n",
    "|ARG0|1170|123|563|90.49|67.51|77.33|\n",
    "|ARG1|2129|703|1112|75.18|65.69|70.11|\n",
    "|ARG1-DSP|0|0|4|0.00|0.00|0.00|\n",
    "|ARG2|616|365|514|62.79|54.51|58.36|\n",
    "|ARG3|29|25|45|53.70|39.19|45.31|\n",
    "|ARG4|40|15|16|72.73|71.43|72.07|\n",
    "|ARG5|0|0|1|0.00|0.00|0.00|\n",
    "|ARGA|0|0|2|0.00|0.00|0.00|\n",
    "|ARGM-ADJ|156|70|72|69.03|68.42|68.72|\n",
    "|ARGM-ADV|246|165|250|59.85|49.60|54.24|\n",
    "|ARGM-CAU|17|25|29|40.48|36.96|38.64|\n",
    "|ARGM-COM|8|7|5|53.33|61.54|57.14|\n",
    "|ARGM-CXN|10|10|2|50.00|83.33|62.50|\n",
    "|ARGM-DIR|19|23|28|45.24|40.43|42.70|\n",
    "|ARGM-DIS|112|36|70|75.68|61.54|67.88|\n",
    "|ARGM-EXT|78|37|27|67.83|74.29|70.91|\n",
    "|ARGM-GOL|6|5|18|54.55|25.00|34.29|\n",
    "|ARGM-LOC|114|70|93|61.96|55.07|58.31|\n",
    "|ARGM-LVB|13|40|56|24.53|18.84|21.31|\n",
    "|ARGM-MNR|73|66|75|52.52|49.32|50.87|\n",
    "|ARGM-MOD|379|9|63|97.68|85.75|91.33|\n",
    "|ARGM-NEG|184|15|33|92.46|84.79|88.46|\n",
    "|ARGM-PRD|15|17|29|46.88|34.09|39.47|\n",
    "|ARGM-PRP|40|40|35|50.00|53.33|51.61|\n",
    "|ARGM-PRR|28|50|41|35.90|40.58|38.10|\n",
    "|ARGM-TMP|412|98|131|80.78|75.87|78.25|\n",
    "|R-ARG0|51|5|16|91.07|76.12|82.93|\n",
    "|R-ARG1|36|8|16|81.82|69.23|75.00|\n",
    "|R-ARG2|0|0|1|0.00|0.00|0.00|\n",
    "|R-ARGM-ADJ|0|0|1|0.00|0.00|0.00|\n",
    "|R-ARGM-ADV|0|0|1|0.00|0.00|0.00|\n",
    "|R-ARGM-DIR|0|0|1|0.00|0.00|0.00|\n",
    "|R-ARGM-LOC|6|12|3|33.33|66.67|44.44|\n",
    "|R-ARGM-MNR|0|0|8|0.00|0.00|0.00|\n",
    "|R-ARGM-TMP|1|1|1|50.00|50.00|50.00|\n",
    "|V|4570|8|232|99.83|95.17|97.44|"
   ]
  },
  {
   "cell_type": "markdown",
   "metadata": {},
   "source": [
    "## Progress\n",
    "1. Pipeline ist bereit, Tests werden mit dem Skript von CoNLL05 durchgeführt.\n",
    "    + Den Spanisationalgorithmus habe ich selbst implementiert. Besser wäre wenn Spans zur Verfügung stehen (etwa im CoNLL05 Datensatz) \n",
    "2.  Verglichen mit Transformers , weisen LSTMs schlechtere Performanz auf. Mehr Experimente sind auf jeden Fall nötig.\n",
    "3. These der Arbeit : Man kann dieses Problem  **nicht** mit SeqLabeling lösen.\n",
    "4. Auch wenn es keinen Labelingsfehler gäbe, kann man mit dieser Encoding immer noch alle möglichen Rollen von einem Wort darstellen. (und das ist entscheidend für diese Aufgabe)\n"
   ]
  },
  {
   "cell_type": "markdown",
   "metadata": {},
   "source": [
    "# Was wenn alles korrekt läuft.\n",
    "\n",
    "||correct|excess|missed|prec.|rec.|F1|\n",
    "|:---:|:----:|:----:|:-----:|:-----:|:----:|:-----:|\n",
    "|Overall|7314|900|2036|89.04|78.22|83.28|\n",
    "|ARG0|1423|53|310|96.41|82.11|88.69|\n",
    "|ARG1|2288|368|953|86.14|70.60|77.60\n",
    "|ARG1-DSP|2|1|2|66.67|50.00|57.14|\n",
    "|ARG2|849|233|281|78.47|75.13|76.76|\n",
    "|ARG3|64|6|10|91.43|86.49|88.89|\n",
    "|ARG4|52|3|4|94.55|92.86|93.69|\n",
    "|ARG5|1|0|0|100.00|100.00|100.00|\n",
    "|ARGA|2|0|0|100.00|100.00|100.00|\n",
    "|ARGM-ADJ|221|16|7|93.25|96.93|95.05|\n",
    "|ARGM-ADV|369|57|127|86.62|74.40|80.04|\n",
    "|ARGM-CAU|25|12|21|67.57|54.35|60.24|\n",
    "|ARGM-COM|12|0|1|100.00|92.31|96.00|\n",
    "|ARGM-CXN|12|2|0|85.71|100.00|92.31|\n",
    "|ARGM-DIR|47|0|0|100.00|100.00|100.00|\n",
    "|ARGM-DIS|162|0|20|100.00|89.01|94.19|\n",
    "|ARGM-EXT|102|5|3|95.33|97.14|96.23|\n",
    "|ARGM-GOL|21|0|3|100.00|87.50|93.33|\n",
    "|ARGM-LOC|189|3|18|98.44|91.30|94.74|\n",
    "|ARGM-LVB|27|41|42|39.71|39.13|39.42|\n",
    "|ARGM-MNR|129|11|19|92.14|87.16|89.58|\n",
    "|ARGM-MOD|387|1|55|99.74|87.56|93.25|\n",
    "|ARGM-NEG|196|10|21|95.15|90.32|92.67|\n",
    "|ARGM-PRD|36|5|8|87.80|81.82|84.71|\n",
    "|ARGM-PRP|67|10|8|87.01|89.33|88.16|\n",
    "|ARGM-PRR|35|49|34|41.67|50.72|45.75|\n",
    "|ARGM-TMP|483|11|60|97.77|88.95|93.15|\n",
    "|R-ARG0|51|2|16|96.23|76.12|85.00|\n",
    "|R-ARG1|41|1|11|97.62|78.85|87.23|\n",
    "|R-ARG2|1|0|0|100.00|100.00|100.00|\n",
    "|R-ARGM-ADJ|1|0|0|100.00|100.00|100.00|\n",
    "|R-ARGM-ADV|1|0|0|100.00|100.00|100.00|\n",
    "|R-ARGM-DIR|1|0|0|100.00|100.00|100.00|\n",
    "|R-ARGM-LOC|7|0|2|100.00|77.78|87.50|\n",
    "|R-ARGM-MNR|8|0|0|100.00|100.00|100.00|\n",
    "|R-ARGM-TMP|2|0|0|100.00|100.00|100.00|\n",
    "|V|4679|1|123|99.98|97.44|98.69|"
   ]
  },
  {
   "cell_type": "code",
   "execution_count": null,
   "metadata": {},
   "outputs": [],
   "source": []
  }
 ],
 "metadata": {
  "kernelspec": {
   "display_name": "Python 3 (ipykernel)",
   "language": "python",
   "name": "python3"
  },
  "language_info": {
   "codemirror_mode": {
    "name": "ipython",
    "version": 3
   },
   "file_extension": ".py",
   "mimetype": "text/x-python",
   "name": "python",
   "nbconvert_exporter": "python",
   "pygments_lexer": "ipython3",
   "version": "3.9.5"
  }
 },
 "nbformat": 4,
 "nbformat_minor": 2
}
