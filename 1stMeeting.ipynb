{
 "cells": [
  {
   "cell_type": "code",
   "execution_count": 1,
   "metadata": {},
   "outputs": [
    {
     "name": "stdout",
     "output_type": "stream",
     "text": [
      "DIRTAG initialized.  Verb senses are ignored.\n",
      "Roles are shown as is\n"
     ]
    }
   ],
   "source": [
    "from pathlib import Path\n",
    "from semantictagger.dataset import Dataset\n",
    "from semantictagger import paradigms\n",
    "from flair.data import Sentence\n",
    "\n",
    "dev_file = Path(\"./UP_English-EWT/en_ewt-up-dev.conllu\")\n",
    "dataset_dev = Dataset(dev_file)\n",
    "relpos = paradigms.RELPOS()\n",
    "dirtag = paradigms.DIRECTTAG(\n",
    "            mult = 2, \n",
    "            rolehandler = 'complete',\n",
    "            verbshandler  = 'omitverb',\n",
    "            verbsonly = False,\n",
    "            deprel = True,\n",
    "            depreldepth = 5)\n",
    "\n",
    "entry = dataset_dev[2]"
   ]
  },
  {
   "cell_type": "markdown",
   "metadata": {},
   "source": [
    "| Hidden        | Embeddings\t\t| Lineup \t    | lr \t|dropout |F1-micro|Accuracy | Info   |\n",
    "| ------------- |:-------------:\t| -------------:|-------|--------|--------|---------| ----- |\n",
    "| 512      \t| elmo-original-all  \t| biLSTM \t    |0.1    |   0\t |81.9    |90       |       |\n",
    "| 512\t\t| elmo-original-all    \t| biLSTM+CRF    |0.1 \t|   0\t |82.63   |90.4     |       |\n",
    "| 512\t\t| elmo-oa + vembed\t    | biLSTM+CRF\t|0.001\t|   0\t |75.56\t  |77.34    |       |\n",
    "| 2048\t\t| elmo-oa + vembed \t    | biLSTM+CRF\t|0.2\t|  0.1   |81.72   |83.21    |       |\n",
    "| 2048\t\t| elmo-oa + vembed \t    | biLSTM+CRF\t|0.2\t|  0.2   |80.95   |82.53    |       |\n",
    "| 1024\t\t| elmo-oa + vembed \t    | biLSTM+CRF\t|0.2\t|  0.2   |82.06   |83.61    |       |\n",
    "| 300\t\t| elmo-oa + vembed\t    | biLSTM+CRF\t|0.2\t|  0.4\t |74.08\t  |76.05    |       |\n",
    "| 512\t\t| elmo-sav + pos\t    | biLSTM\t    |0.02\t|  0.3\t |79.83\t  |81.16    |                     |\n",
    "| 256\t\t| elmo-sav + pos ->256\t| biLSTM\t    |0.02\t|  0.3\t |78.50\t  |80.09    |                     |\n",
    "| 512       | elmo-oa               | biLSTM        |0.1    |   0    |97.28   |98.96    | Predicate Prediction|\n",
    "| 1024      | elmo-oa + vembed      | biLSTM        | 0.1   |   0    |87.43   |87.95    | Direction Prediction|\n",
    "| 512       | elmo-oa               | biLSTM        | 0.1   |   0    |76.67   |91.68    | Role-only Prediction|\n",
    "\n"
   ]
  },
  {
   "cell_type": "markdown",
   "metadata": {},
   "source": [
    "![alt text](./1stmeeting/structure.png \"Logo Title Text 1\")\n"
   ]
  },
  {
   "cell_type": "code",
   "execution_count": 2,
   "metadata": {},
   "outputs": [
    {
     "name": "stdout",
     "output_type": "stream",
     "text": [
      "Bush VERB|1|nsubj\n",
      "nominated PUNCT|-1|root\n",
      "Jennifer VERB|-1|obj\n",
      "M. PROPN|-1|flat\n",
      "Anderson PROPN|-2|flat\n",
      "for NOUN|2|case\n",
      "a NOUN|2|det\n",
      "15 NOUN|1|nummod\n",
      "- NOUN|1|punct\n",
      "year NOUN|1|compound\n",
      "term VERB|-1|obl\n",
      "as NOUN|1|case\n",
      "associate NOUN|1|amod\n",
      "judge NOUN|-1|nmod\n",
      "of PROPN|2|case\n",
      "the PROPN|2|det\n",
      "Superior PROPN|1|compound\n",
      "Court NOUN|-1|nmod\n",
      "of PROPN|1|case\n",
      "the PROPN|1|det\n",
      "District PROPN|-1|nmod\n",
      "of PROPN|1|case\n",
      "Columbia PROPN|-1|nmod\n",
      ", VERB|-1|punct\n",
      "replacing VERB|-1|advcl\n",
      "Steffen VERB|-1|obj\n",
      "W. PROPN|-1|flat\n",
      "Graae PROPN|-2|flat\n",
      ". VERB|-2|punct\n"
     ]
    }
   ],
   "source": [
    "encoded = relpos.encode(entry)\n",
    "words = entry.get_words()\n",
    "\n",
    "for i , v in enumerate(encoded):\n",
    "    print(words[i] , v) "
   ]
  },
  {
   "cell_type": "code",
   "execution_count": 3,
   "metadata": {},
   "outputs": [
    {
     "name": "stdout",
     "output_type": "stream",
     "text": [
      "Bush >ARG0\n",
      "nominated \n",
      "Jennifer <ARG1\n",
      "M. <\n",
      "Anderson <\n",
      "for >\n",
      "a >\n",
      "15 >\n",
      "- >\n",
      "year >\n",
      "term <ARG2\n",
      "as <\n",
      "associate <\n",
      "judge <\n",
      "of <\n",
      "the <\n",
      "Superior <\n",
      "Court <\n",
      "of <\n",
      "the <\n",
      "District <\n",
      "of <\n",
      "Columbia <\n",
      ", \n",
      "replacing <ARGM-ADV\n",
      "Steffen <ARG1\n",
      "W. <\n",
      "Graae <\n",
      ". \n"
     ]
    }
   ],
   "source": [
    "encoded = dirtag.encode(entry)\n",
    "for i , v in enumerate(encoded):\n",
    "    print(words[i] , v) "
   ]
  },
  {
   "cell_type": "markdown",
   "metadata": {},
   "source": [
    "1. Progress:\n",
    "    + Experimenting w/ certain models\n",
    "    + Spanisation"
   ]
  },
  {
   "cell_type": "markdown",
   "metadata": {},
   "source": [
    "2. Future : \n",
    "    + Implementing relative positional encoding Stryrz et al."
   ]
  },
  {
   "cell_type": "markdown",
   "metadata": {},
   "source": [
    "3. Questions for Akbik:\n",
    "    + Wenn ich ein Modell an ein anderes anhängen will , muss ich das erste Modell als Embedding nutzen?\n",
    "    + Ist es ok zu sagen, dass man alle Modelle zunächst ohne CRF durchlaufen lassen kann und erst dann mit CRF wenn Modell gute Performanz aufweist?\n",
    "    + Ensemble models and flair?\n",
    "    + How to measure F1 score for spans?\n",
    "    + Transformers and seq-labeling?"
   ]
  }
 ],
 "metadata": {
  "kernelspec": {
   "display_name": "Python 3 (ipykernel)",
   "language": "python",
   "name": "python3"
  },
  "language_info": {
   "codemirror_mode": {
    "name": "ipython",
    "version": 3
   },
   "file_extension": ".py",
   "mimetype": "text/x-python",
   "name": "python",
   "nbconvert_exporter": "python",
   "pygments_lexer": "ipython3",
   "version": "3.9.5"
  }
 },
 "nbformat": 4,
 "nbformat_minor": 2
}
